{
 "cells": [
  {
   "cell_type": "code",
   "execution_count": null,
   "metadata": {},
   "outputs": [],
   "source": [
    "from numpy import array\n",
    "from tensorflow.keras.preprocessing.text import one_hot\n",
    "from tensorflow.keras.preprocessing.sequence import pad_sequences\n",
    "from tensorflow.keras.models import Sequential\n",
    "from tensorflow.keras.layers import Activation, Dropout, Dense\n",
    "from tensorflow.keras.layers import Flatten, LSTM, Conv1D, RNN, SimpleRNN\n",
    "from tensorflow.keras.layers import GlobalMaxPooling1D, Bidirectional \n",
    "from tensorflow.keras.models import Model\n",
    "from tensorflow.keras.layers import Embedding\n",
    "from sklearn.model_selection import train_test_split\n",
    "from tensorflow.keras.preprocessing.text import Tokenizer\n",
    "from tensorflow.keras.layers import Input\n",
    "from tensorflow.keras.layers import Concatenate\n",
    "from tensorflow.keras.layers import Bidirectional\n",
    "from sklearn import preprocessing\n",
    "from tensorflow.keras import regularizers\n",
    "from sklearn.metrics import mean_squared_error\n",
    "from math import sqrt\n",
    "import pandas as pd\n",
    "import numpy as np\n",
    "import re\n",
    "from tensorflow.keras.utils import plot_model\n",
    "from tensorflow.keras import regularizers\n",
    "import matplotlib.pyplot as plt\n",
    "\n",
    "from scipy.io import loadmat\n",
    "\n"
   ]
  },
  {
   "cell_type": "markdown",
   "metadata": {},
   "source": [
    "# Read Data"
   ]
  },
  {
   "cell_type": "code",
   "execution_count": null,
   "metadata": {},
   "outputs": [],
   "source": [
    "df = pd.read_excel('file.xlsx',Sheet='Sheet1')\n",
    "data=np.array(df)\n",
    "print(data.shape)"
   ]
  },
  {
   "cell_type": "code",
   "execution_count": null,
   "metadata": {
    "scrolled": false
   },
   "outputs": [],
   "source": [
    "df.head()"
   ]
  },
  {
   "cell_type": "code",
   "execution_count": null,
   "metadata": {},
   "outputs": [],
   "source": [
    "phiprev = []\n",
    "thetaprev = []\n",
    "psiprev = []\n",
    "for i in range(0,data.shape[0]):\n",
    "    if i == 0:\n",
    "        phiprev.append(0)\n",
    "        thetaprev.append(0)\n",
    "        psiprev.append(0)\n",
    "    else:\n",
    "        phiprev.append(data[i-1,9])\n",
    "        thetaprev.append(data[i-1,10])\n",
    "        psiprev.append(data[i-1,11])\n",
    "phiprev = np.array(phiprev)\n",
    "thetaprev = np.array(thetaprev) \n",
    "psiprev = np.array(psiprev) "
   ]
  },
  {
   "cell_type": "code",
   "execution_count": null,
   "metadata": {},
   "outputs": [],
   "source": [
    "dataX = np.column_stack((data[:,0:9],phiprev,thetaprev,psiprev))\n",
    "dataY = data[:,9:12]\n",
    "\n",
    "min_max_scaler = preprocessing.MinMaxScaler()\n",
    "dataX = min_max_scaler.fit_transform(dataX)"
   ]
  },
  {
   "cell_type": "code",
   "execution_count": null,
   "metadata": {},
   "outputs": [],
   "source": [
    "split = 10000\n",
    "dataXt = dataX[:split]\n",
    "dataYt = dataY[:split]\n",
    "dataXv = dataX[split:]\n",
    "dataYv = dataY[split:]\n",
    "\n",
    "input_dim = dataXt.shape[1]\n",
    "\n",
    "print(\"input_dim:\", input_dim)\n",
    "print(\"\\nTraining Testing\")\n",
    "print(dataXt.shape[0],dataXv.shape[0])"
   ]
  },
  {
   "cell_type": "code",
   "execution_count": null,
   "metadata": {},
   "outputs": [],
   "source": [
    "timestep = 2\n",
    "Xphithetapsi = dataXt\n",
    "Xphithetapsi = array(Xphithetapsi).reshape(split//timestep, timestep, input_dim)\n",
    "Yphithetapsi = array(dataYt[1::timestep])\n",
    "print(\"Xphithetapsi shape\",Xphithetapsi.shape)\n",
    "print(\"Yphithetapsi shape\",Yphithetapsi.shape)"
   ]
  },
  {
   "cell_type": "markdown",
   "metadata": {},
   "source": [
    "# Main Model Training"
   ]
  },
  {
   "cell_type": "code",
   "execution_count": null,
   "metadata": {
    "scrolled": false
   },
   "outputs": [],
   "source": [
    "# model desing\n",
    "inputs = Input(name='inputs',shape=[timestep,input_dim])\n",
    "layer = LSTM(50, return_sequences=True)(inputs)\n",
    "layer = Dropout(0.25)(layer)\n",
    "layer = LSTM(20)(layer)\n",
    "outputs = Dense(3, activation='linear')(layer)\n",
    "\n",
    "modelphithetapsi1 = Model(inputs=[inputs],outputs=[outputs])\n",
    "\n",
    "# Compile\n",
    "modelphithetapsi1.compile(optimizer='RMSprop', loss='mean_squared_error',metrics = ['accuracy'])\n",
    "modelphithetapsi1.summary()\n",
    "\n",
    "history = modelphithetapsi1.fit(Xphithetapsi, Yphithetapsi,\n",
    "                       epochs=10,\n",
    "                       verbose=0,\n",
    "                       batch_size=50)\n",
    "\n",
    "print('Model Training done')"
   ]
  },
  {
   "cell_type": "code",
   "execution_count": null,
   "metadata": {},
   "outputs": [],
   "source": [
    "# summarize history for accuracy\n",
    "plt.plot(history.history['acc'])\n",
    "plt.title('model accuracy')\n",
    "plt.ylabel('accuracy')\n",
    "plt.xlabel('epoch')\n",
    "plt.legend(['training'], loc = 'upper left')\n",
    "plt.show()\n",
    "\n",
    "# summarize history for loss\n",
    "plt.plot(history.history['loss'])\n",
    "plt.title('model loss')\n",
    "plt.ylabel('loss')\n",
    "plt.xlabel('epoch')\n",
    "plt.legend(['training'], loc = 'upper left')\n",
    "plt.show()"
   ]
  },
  {
   "cell_type": "code",
   "execution_count": null,
   "metadata": {
    "scrolled": true
   },
   "outputs": [],
   "source": [
    "# print the model learning rate\n",
    "import tensorflow.keras.backend as K\n",
    "print(K.eval(modelphithetapsi1.optimizer.lr))"
   ]
  },
  {
   "cell_type": "markdown",
   "metadata": {},
   "source": [
    "# Prediction and Incremental learning "
   ]
  },
  {
   "cell_type": "code",
   "execution_count": null,
   "metadata": {},
   "outputs": [],
   "source": [
    "# new model for incremental learning\n",
    "model = Model(inputs=[inputs],outputs=[outputs])\n",
    "model.compile(optimizer='RMSprop', loss='mean_squared_error',metrics = ['accuracy'])"
   ]
  },
  {
   "cell_type": "code",
   "execution_count": null,
   "metadata": {},
   "outputs": [],
   "source": [
    "#copy weights\n",
    "Wsave = modelphithetapsi1.get_weights()\n",
    "model.set_weights(Wsave)"
   ]
  },
  {
   "cell_type": "code",
   "execution_count": null,
   "metadata": {},
   "outputs": [],
   "source": [
    "results = []\n",
    "stepinit = 3000\n",
    "araya = [stepinit, stepinit, stepinit, stepinit]\n",
    "for j in range(0,array(araya).shape[0]):\n",
    "    XtestA = []\n",
    "    step = araya[j]\n",
    "    pt = stepinit*j\n",
    "    Xtestt = dataXv[pt:pt+step]\n",
    "    Ytest = dataYv[pt:pt+step]\n",
    "    Ytest = array(Ytest[1::timestep])\n",
    "    Xtest = array(Xtestt[:,0:9])\n",
    "    \n",
    "    test_input = np.column_stack((Xtest,Xtestt[:,9:12]))\n",
    "    XtestA = test_input\n",
    "\n",
    "    ip = array(XtestA).reshape(step//timestep, timestep, input_dim)\n",
    "    test_output = model.predict(ip)\n",
    "    test_output = array(test_output)\n",
    "    results.append(test_output)\n",
    "    Xtest1 = ip\n",
    "    history = model.fit(Xtest1, Ytest,\n",
    "                            epochs=10,\n",
    "                            verbose=0,\n",
    "                            batch_size=50)\n",
    "results1 = []\n",
    "XtestA = []\n",
    "step = (data.shape[0]-split)-stepinit*array(araya).shape[0]\n",
    "pt = stepinit*array(araya).shape[0]\n",
    "Xtestt = dataXv[pt:pt+step]\n",
    "Ytest = dataYv[pt:pt+step]\n",
    "Ytest = array(Ytest[1::timestep])\n",
    "Xtest = array(Xtestt[:,0:9])\n",
    "\n",
    "test_input = np.column_stack((Xtest,Xtestt[:,9:12]))\n",
    "ip = array(test_input).reshape(step//timestep, timestep, input_dim)\n",
    "test_output = model.predict(ip)\n",
    "test_output = array(test_output)\n",
    "results1.append(test_output)\n",
    "\n",
    "results = np.vstack((results,results1))\n",
    "print(results.shape)\n"
   ]
  },
  {
   "cell_type": "markdown",
   "metadata": {},
   "source": [
    "# RMSE Plots"
   ]
  },
  {
   "cell_type": "code",
   "execution_count": null,
   "metadata": {},
   "outputs": [],
   "source": [
    "Yt1 = dataYv\n",
    "Yt = array(Yt1[1::timestep])\n",
    "test_output = np.array(results)\n",
    "test_output = test_output.reshape((Yt.shape[0],3))\n",
    "\n",
    "\n",
    "from sklearn.metrics import mean_squared_error\n",
    "from math import sqrt\n",
    "rmsephi = sqrt(mean_squared_error(Yt[:,0], test_output[:,0]))\n",
    "print(\"RMSE phi\",rmsephi)\n",
    "\n",
    "rmsetheta = sqrt(mean_squared_error(Yt[:,1], test_output[:,1]))\n",
    "print(\"RMSE theta\",rmsetheta)\n",
    "\n",
    "rmsepsi = sqrt(mean_squared_error(Yt[:,2], test_output[:,2]))\n",
    "print(\"RMSE phi\",rmsepsi)\n",
    "\n",
    "print(rmsephi,rmsetheta,rmsepsi)\n",
    "\n",
    "plt.plot(Yt[:,0])\n",
    "plt.plot(test_output[:,0])\n",
    "plt.title('Phi/Roll')\n",
    "plt.xlabel('samples')\n",
    "plt.ylabel('Roll angle')\n",
    "plt.legend(['Reference', 'Predicted'], loc = 'upper right')\n",
    "plt.show()\n",
    "\n",
    "plt.plot(Yt[:,1])\n",
    "plt.plot(test_output[:,1])\n",
    "plt.title('Theta/Pitch')\n",
    "plt.xlabel('samples')\n",
    "plt.ylabel('Pitch angle')\n",
    "plt.legend(['Reference', 'Predicted'], loc = 'upper right')\n",
    "plt.show()\n",
    "\n",
    "plt.plot(Yt[:,2])\n",
    "plt.plot(test_output[:,2])\n",
    "plt.title('Psi/Yaw')\n",
    "plt.xlabel('samples')\n",
    "plt.ylabel('Yaw angle')\n",
    "plt.legend(['Reference', 'Predicted'], loc = 'upper right')\n",
    "plt.show()"
   ]
  }
 ],
 "metadata": {
  "kernelspec": {
   "display_name": "Python 3",
   "language": "python",
   "name": "python3"
  },
  "language_info": {
   "codemirror_mode": {
    "name": "ipython",
    "version": 3
   },
   "file_extension": ".py",
   "mimetype": "text/x-python",
   "name": "python",
   "nbconvert_exporter": "python",
   "pygments_lexer": "ipython3",
   "version": "3.5.6"
  }
 },
 "nbformat": 4,
 "nbformat_minor": 4
}
