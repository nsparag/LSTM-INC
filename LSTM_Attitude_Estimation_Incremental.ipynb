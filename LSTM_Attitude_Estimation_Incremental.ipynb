{
  "nbformat": 4,
  "nbformat_minor": 0,
  "metadata": {
    "colab": {
      "name": "LSTM_Attitude_Estimation_Incremental",
      "provenance": [],
      "collapsed_sections": [],
      "authorship_tag": "ABX9TyP4xU8UnAf/KwHZL+qaySZx",
      "include_colab_link": true
    },
    "kernelspec": {
      "name": "python3",
      "display_name": "Python 3"
    },
    "accelerator": "GPU"
  },
  "cells": [
    {
      "cell_type": "markdown",
      "metadata": {
        "id": "view-in-github",
        "colab_type": "text"
      },
      "source": [
        "<a href=\"https://colab.research.google.com/github/nsparag/LSTM-INC/blob/main/LSTM_Attitude_Estimation_Incremental.ipynb\" target=\"_parent\"><img src=\"https://colab.research.google.com/assets/colab-badge.svg\" alt=\"Open In Colab\"/></a>"
      ]
    },
    {
      "cell_type": "markdown",
      "metadata": {
        "id": "Hjgu5lP053B3"
      },
      "source": [
        "## **Import Libraries**"
      ]
    },
    {
      "cell_type": "code",
      "metadata": {
        "id": "ILklj-sP0Vvb"
      },
      "source": [
        "from numpy import array\n",
        "from tensorflow.keras.preprocessing.text import one_hot\n",
        "from tensorflow.keras.preprocessing.sequence import pad_sequences\n",
        "from tensorflow.keras.models import Sequential\n",
        "from tensorflow.keras.layers import Activation, Dropout, Dense\n",
        "from tensorflow.keras.layers import Flatten, LSTM, Conv1D, RNN, SimpleRNN\n",
        "from tensorflow.keras.layers import GlobalMaxPooling1D, Bidirectional \n",
        "from tensorflow.keras.models import Model\n",
        "from tensorflow.keras.layers import Embedding\n",
        "from sklearn.model_selection import train_test_split\n",
        "from tensorflow.keras.preprocessing.text import Tokenizer\n",
        "from tensorflow.keras.layers import Input\n",
        "from tensorflow.keras.layers import Concatenate\n",
        "from tensorflow.keras.layers import Bidirectional\n",
        "from sklearn import preprocessing\n",
        "from tensorflow.keras import regularizers\n",
        "from sklearn.metrics import mean_squared_error\n",
        "from math import sqrt\n",
        "import pandas as pd\n",
        "import numpy as np\n",
        "import re\n",
        "from tensorflow.keras.utils import plot_model\n",
        "from tensorflow.keras import regularizers\n",
        "import matplotlib.pyplot as plt\n",
        "import math\n",
        "from scipy.io import loadmat\n",
        "import time"
      ],
      "execution_count": 1,
      "outputs": []
    },
    {
      "cell_type": "markdown",
      "metadata": {
        "id": "gr46ZFnz6CeV"
      },
      "source": [
        "## **Import Data**"
      ]
    },
    {
      "cell_type": "code",
      "metadata": {
        "id": "kdQMTnr01vzU"
      },
      "source": [
        "df = pd.read_excel('D1.xlsx',Sheet='Sheet1')\n",
        "df.head()\n",
        "data1=np.array(df)\n",
        "print(data1.shape)\n",
        "data=data1[0:data1.shape[0],:]\n",
        "print(data.shape)"
      ],
      "execution_count": null,
      "outputs": []
    },
    {
      "cell_type": "code",
      "metadata": {
        "id": "KMLJrfRz5HYW"
      },
      "source": [
        "dataX = data[:,0:9];\n",
        "dataY = data[:,9:12]\n",
        "\n",
        "min_max_scaler = preprocessing.MinMaxScaler()\n",
        "dataX = min_max_scaler.fit_transform(dataX)"
      ],
      "execution_count": null,
      "outputs": []
    },
    {
      "cell_type": "markdown",
      "metadata": {
        "id": "RAIVh6yj6HWs"
      },
      "source": [
        "## **Split Training and Testing Data**"
      ]
    },
    {
      "cell_type": "code",
      "metadata": {
        "id": "WU559GbH2BVd"
      },
      "source": [
        "split = 10000\n",
        "dataXt = dataX[:split]\n",
        "dataYt = dataY[:split]\n",
        "dataXv = dataX[split:]\n",
        "dataYv = dataY[split:]\n",
        "\n",
        "input_dim = dataXt.shape[1]\n",
        "\n",
        "print(\"input_dim:\", input_dim)\n",
        "print(\"\\nTraining Testing\")\n",
        "print(dataXt.shape[0],dataXv.shape[0])\n",
        "\n",
        "timestep = 2\n",
        "Xphithetapsi = dataXt\n",
        "Xphithetapsi = array(Xphithetapsi).reshape(split//timestep, timestep, input_dim)\n",
        "Yphithetapsi = array(dataYt[0::timestep])\n",
        "print(\"Xphithetapsi shape\",Xphithetapsi.shape)\n",
        "print(\"Yphithetapsi shape\",Yphithetapsi.shape)"
      ],
      "execution_count": null,
      "outputs": []
    },
    {
      "cell_type": "markdown",
      "metadata": {
        "id": "LyM9itIC6Pal"
      },
      "source": [
        "## **Model desing and Training**"
      ]
    },
    {
      "cell_type": "code",
      "metadata": {
        "id": "sztIaWSlPcD4"
      },
      "source": [
        "inputs = Input(name='inputs',shape=[timestep,input_dim])\n",
        "layer = LSTM(50, return_sequences=True)(inputs)\n",
        "layer = Dropout(0.25)(layer)\n",
        "layer = LSTM(20)(layer)\n",
        "outputs = Dense(3, activation='linear')(layer)\n",
        "\n",
        "modelphithetapsi1 = Model(inputs=[inputs],outputs=[outputs])\n",
        "\n",
        "# Compile\n",
        "modelphithetapsi1.compile(optimizer='RMSprop', loss='mean_squared_error',metrics = ['accuracy'])\n",
        "modelphithetapsi1.summary()\n",
        "\n",
        "history = modelphithetapsi1.fit(Xphithetapsi, Yphithetapsi,\n",
        "                       epochs=20,\n",
        "                       verbose=0,\n",
        "                       batch_size=50)\n",
        "\n",
        "print('Model Training done')"
      ],
      "execution_count": null,
      "outputs": []
    },
    {
      "cell_type": "markdown",
      "metadata": {
        "id": "6gw7bVi86ydd"
      },
      "source": [
        "## **Offline Predictions**"
      ]
    },
    {
      "cell_type": "code",
      "metadata": {
        "id": "MB5T9kqL6xvu"
      },
      "source": [
        "results = []\n",
        "Xtestt = dataXv\n",
        "Ytest = dataYv\n",
        "Ytest = array(Ytest[1::timestep])\n",
        "Xtest = array(Xtestt[:,0:9])\n",
        "\n",
        "test_input = np.column_stack((Xtest,Xtestt[:,9:12]))\n",
        "ip = array(test_input).reshape(test_input.shape[0]//timestep, timestep, input_dim)\n",
        "test_output = modelphithetapsi1.predict(ip)\n",
        "test_output = array(test_output)\n",
        "\n",
        "results = np.array(test_output)\n",
        "results = results.reshape(test_input.shape[0]//timestep,3)\n",
        "print(results.shape)"
      ],
      "execution_count": null,
      "outputs": []
    },
    {
      "cell_type": "markdown",
      "metadata": {
        "id": "OD3ckxkE6Zc9"
      },
      "source": [
        "## **Incremental Learning Model**"
      ]
    },
    {
      "cell_type": "code",
      "metadata": {
        "id": "s8kP-sdrQTmy"
      },
      "source": [
        "# new model for incremental learning\n",
        "model = Model(inputs=[inputs],outputs=[outputs])\n",
        "model.compile(optimizer='RMSprop', loss='mean_squared_error',metrics = ['accuracy'])\n",
        "model.summary()\n",
        "#copy weights\n",
        "Wsave = modelphithetapsi1.get_weights()\n",
        "model.set_weights(Wsave)\n",
        "\n",
        "wgt = model.get_weights()\n",
        "print(wgt[1])"
      ],
      "execution_count": null,
      "outputs": []
    },
    {
      "cell_type": "code",
      "metadata": {
        "id": "2zPbD982QT-v"
      },
      "source": [
        "result = []\n",
        "stepinit = 3000\n",
        "araya = [stepinit, stepinit,stepinit, stepinit, stepinit, stepinit, stepinit, stepinit]\n",
        "for j in range(0,array(araya).shape[0]):\n",
        "    XtestA = []\n",
        "    step = araya[j]\n",
        "    pt = stepinit*j\n",
        "    Xtestt = dataXv[pt:pt+step]\n",
        "    Ytest = dataYv[pt:pt+step]\n",
        "    Ytest = array(Ytest[0::timestep])\n",
        "    Xtest = array(Xtestt[:,0:9])\n",
        "    \n",
        "    test_input = np.column_stack((Xtest,Xtestt[:,9:12]))\n",
        "    XtestA = test_input\n",
        "    ip = array(XtestA).reshape(step//timestep, timestep, input_dim)\n",
        "    test_output = model.predict(ip)\n",
        "    test_output = array(test_output)\n",
        "    result.append(test_output)\n",
        "    Xtest1 = ip\n",
        "    \n",
        "    wgt = model.get_weights()\n",
        "#     print(wgt[1])\n",
        "    start = time.time()\n",
        "    history = model.fit(Xtest1, Ytest,\n",
        "                            epochs=20,\n",
        "                            verbose=0,\n",
        "                            batch_size=50)\n",
        "    end = time.time()\n",
        "    print(end - start)\n",
        "result = np.array(result)\n",
        "result = result.reshape((stepinit*array(araya).shape[0]//timestep,3))\n",
        "print(result.shape)\n",
        "\n",
        "result1 = []\n",
        "XtestA = []\n",
        "step = (data.shape[0]-split)-stepinit*array(araya).shape[0]\n",
        "pt = stepinit*array(araya).shape[0]\n",
        "Xtestt = dataXv[pt:pt+step]\n",
        "Ytest = dataYv[pt:pt+step]\n",
        "Ytest = array(Ytest[1::timestep])\n",
        "Xtest = array(Xtestt[:,0:9])\n",
        "\n",
        "test_input = np.column_stack((Xtest,Xtestt[:,9:12]))\n",
        "ip = array(test_input).reshape(step//timestep, timestep, input_dim)\n",
        "test_output = model.predict(ip)\n",
        "test_output = array(test_output)\n",
        "result1.append(test_output)\n",
        "\n",
        "result1 = np.array(result1)\n",
        "result1 = result1.reshape(test_input.shape[0]//timestep,3)\n",
        "print(result1.shape)"
      ],
      "execution_count": null,
      "outputs": []
    },
    {
      "cell_type": "code",
      "metadata": {
        "id": "JBczpCC1mvGO"
      },
      "source": [
        "print(result.shape)\n",
        "print(result1.shape)\n",
        "\n",
        "results = np.vstack((result,result1))\n",
        "print(results.shape)"
      ],
      "execution_count": null,
      "outputs": []
    },
    {
      "cell_type": "markdown",
      "metadata": {
        "id": "zVfTzlAc6jJ9"
      },
      "source": [
        "## **Compute RMSE and Print Results**"
      ]
    },
    {
      "cell_type": "code",
      "metadata": {
        "id": "CtvyLY9Xmw6C"
      },
      "source": [
        "Yt1 = dataYv\n",
        "Yt = array(Yt1[0::timestep])\n",
        "test_output = np.array(results)\n",
        "test_output = test_output.reshape((Yt.shape[0],3))\n",
        "\n",
        "\n",
        "from sklearn.metrics import mean_squared_error\n",
        "from math import sqrt\n",
        "rmsephi = sqrt(mean_squared_error(Yt[:,0], test_output[:,0]))\n",
        "print(\"RMSE phi\",rmsephi)\n",
        "\n",
        "rmsetheta = sqrt(mean_squared_error(Yt[:,1], test_output[:,1]))\n",
        "print(\"RMSE theta\",rmsetheta)\n",
        "\n",
        "rmsepsi = sqrt(mean_squared_error(Yt[:,2], test_output[:,2]))\n",
        "print(\"RMSE phi\",rmsepsi)\n",
        "\n",
        "print(rmsephi,rmsetheta,rmsepsi)\n",
        "\n",
        "plt.plot(Yt[:,0])\n",
        "plt.plot(test_output[:,0])\n",
        "plt.title('Phi/Roll')\n",
        "plt.xlabel('samples')\n",
        "plt.ylabel('Roll angle')\n",
        "plt.legend(['Reference', 'Predicted'], loc = 'upper right')\n",
        "plt.show()\n",
        "\n",
        "plt.plot(Yt[:,1])\n",
        "plt.plot(test_output[:,1])\n",
        "plt.title('Theta/Pitch')\n",
        "plt.xlabel('samples')\n",
        "plt.ylabel('Pitch angle')\n",
        "plt.legend(['Reference', 'Predicted'], loc = 'upper right')\n",
        "plt.show()\n",
        "\n",
        "plt.plot(Yt[:,2])\n",
        "plt.plot(test_output[:,2])\n",
        "plt.title('Psi/Yaw')\n",
        "plt.xlabel('samples')\n",
        "plt.ylabel('Yaw angle')\n",
        "plt.legend(['Reference', 'Predicted'], loc = 'upper right')\n",
        "plt.show()\n"
      ],
      "execution_count": null,
      "outputs": []
    }
  ]
}
